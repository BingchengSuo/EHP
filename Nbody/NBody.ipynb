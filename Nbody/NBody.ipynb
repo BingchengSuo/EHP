{
 "cells": [
  {
   "cell_type": "code",
   "execution_count": 1,
   "id": "1bc0d135",
   "metadata": {},
   "outputs": [],
   "source": [
    "import numpy as np \n",
    "import matplotlib.pyplot as plt\n",
    "import imageio\n",
    "import moviepy.editor as mp\n",
    "from matplotlib.animation import FuncAnimation\n",
    "import time as time"
   ]
  },
  {
   "cell_type": "code",
   "execution_count": 2,
   "id": "034f22e8",
   "metadata": {},
   "outputs": [],
   "source": [
    "# constants\n",
    "G = 6.67e-11 # gravitational constant\n",
    "Au = 1.49e11 # astronaumical unit\n",
    "me = 5e24 # mass of earth\n",
    "c = G * me / Au**2"
   ]
  },
  {
   "cell_type": "code",
   "execution_count": 3,
   "id": "42835bf8",
   "metadata": {},
   "outputs": [],
   "source": [
    "def get_acc(pos,m,t,s):    \n",
    "    N = pos.shape[0]\n",
    "    a = np.zeros((N,3))\n",
    "    x = pos[:,0:1,t] # column\n",
    "    y = pos[:,1:2,t]\n",
    "    z = pos[:,2:3,t]\n",
    "    dx = x.T - x # NxN matrix \n",
    "    dy = y.T - y \n",
    "    dz = z.T - z\n",
    "    invr3 = (dx**2 + dy**2 + dz**2 + s**2)**(-1.5)\n",
    "    invr3[invr3>0] = invr3[invr3>0] # take out diagnol \n",
    "    a[:,0:1] = c * (dx * invr3) @ m\n",
    "    a[:,1:2] = c * (dy * invr3) @ m\n",
    "    a[:,2:3] = c * (dz * invr3) @ m\n",
    "    return a\n",
    "\n",
    "def get_tan_vel(x, y, vel_magnitude): # set tangential velocities\n",
    "    # Calculate the magnitude of the position vector\n",
    "    r = np.sqrt(x**2 + y**2)\n",
    "    # Calculate the tangent vector components\n",
    "    tangent_x = -y / r\n",
    "    tangent_y = x / r\n",
    "    # Set the initial velocities along the tangent direction\n",
    "    vel_x = vel_magnitude * tangent_x\n",
    "    vel_y = vel_magnitude * tangent_y\n",
    "    return vel_x, vel_y"
   ]
  },
  {
   "cell_type": "code",
   "execution_count": 4,
   "id": "e15200d2",
   "metadata": {},
   "outputs": [],
   "source": [
    "# define constants\n",
    "s = 6378e3/Au # softening\n",
    "T = 10 # total time step\n",
    "dt = 0.01\n",
    "Nt = int(np.ceil(T/dt)) \n",
    "N = 3000 # total number of particles\n",
    "m = 150.0*np.ones((N,1))/N\n",
    "pos = np.zeros((N,3,Nt)) # position\n",
    "vel = np.zeros((N,3)) # velocity"
   ]
  },
  {
   "cell_type": "code",
   "execution_count": 5,
   "id": "a66519c9",
   "metadata": {},
   "outputs": [],
   "source": [
    "# initia condition; randomized position\n",
    "pos[:,0,0] = np.random.uniform(-5, 5, N)\n",
    "pos[:,1,0] = np.random.uniform(-5, 5, N)\n",
    "pos[:,2,0] = np.random.uniform(-1, 1,N)\n",
    "\n",
    "# set initial velocities\n",
    "vel_magnitude = 2\n",
    "vel_x, vel_y = get_tan_vel(pos[:,0,0], pos[:,1,0], vel_magnitude)\n",
    "vel[:, 0] = vel_x\n",
    "vel[:, 1] = vel_y\n",
    "vel[:,2] = np.random.uniform(0, 0.5, N)"
   ]
  },
  {
   "cell_type": "code",
   "execution_count": 6,
   "id": "8203d9c2",
   "metadata": {},
   "outputs": [
    {
     "name": "stdout",
     "output_type": "stream",
     "text": [
      "1.80% done\r"
     ]
    },
    {
     "ename": "KeyboardInterrupt",
     "evalue": "",
     "output_type": "error",
     "traceback": [
      "\u001b[0;31m---------------------------------------------------------------------------\u001b[0m",
      "\u001b[0;31mKeyboardInterrupt\u001b[0m                         Traceback (most recent call last)",
      "\u001b[0;32m/var/folders/hv/gy77k6wd7xj8h6rn0b0xrn5c0000gn/T/ipykernel_69299/492022991.py\u001b[0m in \u001b[0;36m<module>\u001b[0;34m\u001b[0m\n\u001b[1;32m      4\u001b[0m     \u001b[0mvel\u001b[0m \u001b[0;34m+=\u001b[0m \u001b[0;34m(\u001b[0m\u001b[0macc\u001b[0m \u001b[0;34m*\u001b[0m \u001b[0mdt\u001b[0m\u001b[0;34m/\u001b[0m\u001b[0;36m2\u001b[0m\u001b[0;34m)\u001b[0m\u001b[0;34m/\u001b[0m\u001b[0mc\u001b[0m\u001b[0;34m\u001b[0m\u001b[0;34m\u001b[0m\u001b[0m\n\u001b[1;32m      5\u001b[0m     \u001b[0mpos\u001b[0m\u001b[0;34m[\u001b[0m\u001b[0;34m:\u001b[0m\u001b[0;34m,\u001b[0m\u001b[0;34m:\u001b[0m\u001b[0;34m,\u001b[0m\u001b[0mi\u001b[0m\u001b[0;34m]\u001b[0m \u001b[0;34m=\u001b[0m \u001b[0mpos\u001b[0m\u001b[0;34m[\u001b[0m\u001b[0;34m:\u001b[0m\u001b[0;34m,\u001b[0m\u001b[0;34m:\u001b[0m\u001b[0;34m,\u001b[0m\u001b[0mi\u001b[0m\u001b[0;34m-\u001b[0m\u001b[0;36m1\u001b[0m\u001b[0;34m]\u001b[0m \u001b[0;34m+\u001b[0m \u001b[0mvel\u001b[0m \u001b[0;34m*\u001b[0m \u001b[0mdt\u001b[0m\u001b[0;34m\u001b[0m\u001b[0;34m\u001b[0m\u001b[0m\n\u001b[0;32m----> 6\u001b[0;31m     \u001b[0macc\u001b[0m \u001b[0;34m=\u001b[0m \u001b[0mget_acc\u001b[0m\u001b[0;34m(\u001b[0m\u001b[0mpos\u001b[0m\u001b[0;34m,\u001b[0m\u001b[0mm\u001b[0m\u001b[0;34m,\u001b[0m\u001b[0mi\u001b[0m\u001b[0;34m,\u001b[0m\u001b[0ms\u001b[0m\u001b[0;34m)\u001b[0m\u001b[0;34m\u001b[0m\u001b[0;34m\u001b[0m\u001b[0m\n\u001b[0m\u001b[1;32m      7\u001b[0m     \u001b[0mvel\u001b[0m \u001b[0;34m+=\u001b[0m \u001b[0;34m(\u001b[0m\u001b[0macc\u001b[0m \u001b[0;34m*\u001b[0m \u001b[0mdt\u001b[0m\u001b[0;34m/\u001b[0m\u001b[0;36m2\u001b[0m\u001b[0;34m)\u001b[0m\u001b[0;34m/\u001b[0m\u001b[0mc\u001b[0m\u001b[0;34m\u001b[0m\u001b[0;34m\u001b[0m\u001b[0m\n\u001b[1;32m      8\u001b[0m     \u001b[0mprint\u001b[0m\u001b[0;34m(\u001b[0m\u001b[0mstr\u001b[0m\u001b[0;34m(\u001b[0m\u001b[0;34m\"{:.2f}\"\u001b[0m\u001b[0;34m.\u001b[0m\u001b[0mformat\u001b[0m\u001b[0;34m(\u001b[0m\u001b[0;36m100\u001b[0m \u001b[0;34m*\u001b[0m \u001b[0mi\u001b[0m \u001b[0;34m/\u001b[0m \u001b[0mNt\u001b[0m\u001b[0;34m)\u001b[0m\u001b[0;34m)\u001b[0m \u001b[0;34m+\u001b[0m \u001b[0;34m\"%\"\u001b[0m \u001b[0;34m+\u001b[0m \u001b[0;34m\" \"\u001b[0m \u001b[0;34m+\u001b[0m \u001b[0;34m\"done\"\u001b[0m\u001b[0;34m,\u001b[0m \u001b[0mend\u001b[0m\u001b[0;34m=\u001b[0m\u001b[0;34m'\\r'\u001b[0m\u001b[0;34m)\u001b[0m\u001b[0;34m\u001b[0m\u001b[0;34m\u001b[0m\u001b[0m\n",
      "\u001b[0;32m/var/folders/hv/gy77k6wd7xj8h6rn0b0xrn5c0000gn/T/ipykernel_69299/1771987815.py\u001b[0m in \u001b[0;36mget_acc\u001b[0;34m(pos, m, t, s)\u001b[0m\n\u001b[1;32m      8\u001b[0m     \u001b[0mdy\u001b[0m \u001b[0;34m=\u001b[0m \u001b[0my\u001b[0m\u001b[0;34m.\u001b[0m\u001b[0mT\u001b[0m \u001b[0;34m-\u001b[0m \u001b[0my\u001b[0m\u001b[0;34m\u001b[0m\u001b[0;34m\u001b[0m\u001b[0m\n\u001b[1;32m      9\u001b[0m     \u001b[0mdz\u001b[0m \u001b[0;34m=\u001b[0m \u001b[0mz\u001b[0m\u001b[0;34m.\u001b[0m\u001b[0mT\u001b[0m \u001b[0;34m-\u001b[0m \u001b[0mz\u001b[0m\u001b[0;34m\u001b[0m\u001b[0;34m\u001b[0m\u001b[0m\n\u001b[0;32m---> 10\u001b[0;31m     \u001b[0minvr3\u001b[0m \u001b[0;34m=\u001b[0m \u001b[0;34m(\u001b[0m\u001b[0mdx\u001b[0m\u001b[0;34m**\u001b[0m\u001b[0;36m2\u001b[0m \u001b[0;34m+\u001b[0m \u001b[0mdy\u001b[0m\u001b[0;34m**\u001b[0m\u001b[0;36m2\u001b[0m \u001b[0;34m+\u001b[0m \u001b[0mdz\u001b[0m\u001b[0;34m**\u001b[0m\u001b[0;36m2\u001b[0m \u001b[0;34m+\u001b[0m \u001b[0ms\u001b[0m\u001b[0;34m**\u001b[0m\u001b[0;36m2\u001b[0m\u001b[0;34m)\u001b[0m\u001b[0;34m**\u001b[0m\u001b[0;34m(\u001b[0m\u001b[0;34m-\u001b[0m\u001b[0;36m1.5\u001b[0m\u001b[0;34m)\u001b[0m\u001b[0;34m\u001b[0m\u001b[0;34m\u001b[0m\u001b[0m\n\u001b[0m\u001b[1;32m     11\u001b[0m     \u001b[0minvr3\u001b[0m\u001b[0;34m[\u001b[0m\u001b[0minvr3\u001b[0m\u001b[0;34m>\u001b[0m\u001b[0;36m0\u001b[0m\u001b[0;34m]\u001b[0m \u001b[0;34m=\u001b[0m \u001b[0minvr3\u001b[0m\u001b[0;34m[\u001b[0m\u001b[0minvr3\u001b[0m\u001b[0;34m>\u001b[0m\u001b[0;36m0\u001b[0m\u001b[0;34m]\u001b[0m \u001b[0;31m# take out diagnol\u001b[0m\u001b[0;34m\u001b[0m\u001b[0;34m\u001b[0m\u001b[0m\n\u001b[1;32m     12\u001b[0m     \u001b[0ma\u001b[0m\u001b[0;34m[\u001b[0m\u001b[0;34m:\u001b[0m\u001b[0;34m,\u001b[0m\u001b[0;36m0\u001b[0m\u001b[0;34m:\u001b[0m\u001b[0;36m1\u001b[0m\u001b[0;34m]\u001b[0m \u001b[0;34m=\u001b[0m \u001b[0mc\u001b[0m \u001b[0;34m*\u001b[0m \u001b[0;34m(\u001b[0m\u001b[0mdx\u001b[0m \u001b[0;34m*\u001b[0m \u001b[0minvr3\u001b[0m\u001b[0;34m)\u001b[0m \u001b[0;34m@\u001b[0m \u001b[0mm\u001b[0m\u001b[0;34m\u001b[0m\u001b[0;34m\u001b[0m\u001b[0m\n",
      "\u001b[0;31mKeyboardInterrupt\u001b[0m: "
     ]
    }
   ],
   "source": [
    "time_i = time.time()\n",
    "acc = get_acc(pos,m,0,s)\n",
    "for i in range(1, Nt):\n",
    "    vel += (acc * dt/2)/c\n",
    "    pos[:,:,i] = pos[:,:,i-1] + vel * dt\n",
    "    acc = get_acc(pos,m,i,s)\n",
    "    vel += (acc * dt/2)/c\n",
    "    print(str(\"{:.2f}\".format(100 * i / Nt)) + \"%\" + \" \" + \"done\", end='\\r')\n",
    "duration = time.time() - time_i\n",
    "print(str(duration)+' '+'secs')"
   ]
  },
  {
   "cell_type": "code",
   "execution_count": 388,
   "id": "2e1926cb",
   "metadata": {},
   "outputs": [
    {
     "name": "stdout",
     "output_type": "stream",
     "text": [
      "99.90% done\r"
     ]
    },
    {
     "data": {
      "image/png": "[encoded data removed]",
      "text/plain": [
       "<Figure size 720x720 with 1 Axes>"
      ]
     },
     "metadata": {
      "needs_background": "light"
     },
     "output_type": "display_data"
    }
   ],
   "source": [
    "def update_frame(t):\n",
    "    ax.clear()\n",
    "    ax.set_aspect('equal')\n",
    "    plt.xlim(-5, 5)\n",
    "    plt.ylim(-5, 5)\n",
    "    ax.plot(pos[:, 0, t], pos[:, 1, t], 'o', alpha=0.5, markersize=0.8)\n",
    "\n",
    "dpi = 120\n",
    "fig_width, fig_height = 6, 6\n",
    "fig, ax = plt.subplots(figsize=(fig_width, fig_height), dpi=dpi)\n",
    "writer = imageio.get_writer(\"model.gif\", mode='I', duration=1/30)\n",
    "animation = FuncAnimation(fig, update_frame, frames=Nt, repeat=False)\n",
    "for t in range(Nt):\n",
    "    update_frame(t)  # Update the frame\n",
    "    fig.canvas.draw()  # Draw the updated figure\n",
    "    image = np.frombuffer(fig.canvas.tostring_rgb(), dtype='uint8')\n",
    "    image = image.reshape(fig.canvas.get_width_height()[::-1] + (3,))\n",
    "    writer.append_data(image)\n",
    "    print(str(\"{:.2f}\".format(100*t/Nt))+\"%\"+\" \"+\"done\", end='\\r')\n",
    "writer.close()"
   ]
  },
  {
   "cell_type": "code",
   "execution_count": null,
   "id": "c9140c26",
   "metadata": {},
   "outputs": [],
   "source": []
  }
 ],
 "metadata": {
  "kernelspec": {
   "display_name": "Python 3 (ipykernel)",
   "language": "python",
   "name": "python3"
  },
  "language_info": {
   "codemirror_mode": {
    "name": "ipython",
    "version": 3
   },
   "file_extension": ".py",
   "mimetype": "text/x-python",
   "name": "python",
   "nbconvert_exporter": "python",
   "pygments_lexer": "ipython3",
   "version": "3.9.5"
  }
 },
 "nbformat": 4,
 "nbformat_minor": 5
}
